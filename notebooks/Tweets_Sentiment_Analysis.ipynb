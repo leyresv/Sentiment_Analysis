{
  "nbformat": 4,
  "nbformat_minor": 0,
  "metadata": {
    "colab": {
      "provenance": []
    },
    "kernelspec": {
      "name": "python3",
      "display_name": "Python 3"
    },
    "language_info": {
      "name": "python"
    },
    "gpuClass": "standard"
  },
  "cells": [
    {
      "cell_type": "code",
      "execution_count": null,
      "metadata": {
        "id": "D2GM07BhCb_M"
      },
      "outputs": [],
      "source": [
        "import nltk\n",
        "import random\n",
        "import re\n",
        "import string\n",
        "import matplotlib.pyplot as plt\n",
        "import numpy as np\n",
        "\n",
        "from nltk.corpus import twitter_samples, stopwords\n",
        "from nltk.stem import WordNetLemmatizer, PorterStemmer\n",
        "from nltk.tokenize import TweetTokenizer\n",
        "from sklearn.linear_model import LogisticRegression\n",
        "from sklearn.svm import SVC\n",
        "from sklearn.naive_bayes import GaussianNB"
      ]
    },
    {
      "cell_type": "code",
      "source": [
        "# Download nltk resources\n",
        "nltk.download(\"twitter_samples\")\n",
        "nltk.download('wordnet')\n",
        "nltk.download('omw-1.4')\n",
        "nltk.download(\"stopwords\")"
      ],
      "metadata": {
        "colab": {
          "base_uri": "https://localhost:8080/"
        },
        "id": "0jqiGSHbCzWy",
        "outputId": "8af50241-b546-4032-8b86-38f04fa9b67d"
      },
      "execution_count": null,
      "outputs": [
        {
          "output_type": "stream",
          "name": "stderr",
          "text": [
            "[nltk_data] Downloading package twitter_samples to /root/nltk_data...\n",
            "[nltk_data]   Unzipping corpora/twitter_samples.zip.\n",
            "[nltk_data] Downloading package wordnet to /root/nltk_data...\n",
            "[nltk_data] Downloading package omw-1.4 to /root/nltk_data...\n",
            "[nltk_data] Downloading package stopwords to /root/nltk_data...\n",
            "[nltk_data]   Unzipping corpora/stopwords.zip.\n"
          ]
        },
        {
          "output_type": "execute_result",
          "data": {
            "text/plain": [
              "True"
            ]
          },
          "metadata": {},
          "execution_count": 2
        }
      ]
    },
    {
      "cell_type": "markdown",
      "source": [
        "# Dataset exploration"
      ],
      "metadata": {
        "id": "r_7SLlDJEal8"
      }
    },
    {
      "cell_type": "code",
      "source": [
        "pos_tweets = twitter_samples.strings(\"positive_tweets.json\")\n",
        "neg_tweets = twitter_samples.strings(\"negative_tweets.json\")\n",
        "type(pos_tweets), type(neg_tweets), len(pos_tweets), len(neg_tweets)"
      ],
      "metadata": {
        "colab": {
          "base_uri": "https://localhost:8080/"
        },
        "id": "8ED9f7NqDDZz",
        "outputId": "f3628872-2e31-498c-d572-9b156b2bd0c6"
      },
      "execution_count": null,
      "outputs": [
        {
          "output_type": "execute_result",
          "data": {
            "text/plain": [
              "(list, list, 5000, 5000)"
            ]
          },
          "metadata": {},
          "execution_count": 3
        }
      ]
    },
    {
      "cell_type": "code",
      "source": [
        "# Split train/test datasets\n",
        "train_pos, train_neg = pos_tweets[:4000], neg_tweets[:4000]\n",
        "test_pos, test_neg = pos_tweets[4000:], neg_tweets[4000:]\n",
        "train_tweets = train_pos + train_neg \n",
        "test_tweets = test_pos + test_neg\n",
        "len(train_tweets), len(test_tweets)"
      ],
      "metadata": {
        "colab": {
          "base_uri": "https://localhost:8080/"
        },
        "id": "0Ixanw6udb78",
        "outputId": "4ce72553-b17a-4368-8669-683c1abc614c"
      },
      "execution_count": null,
      "outputs": [
        {
          "output_type": "execute_result",
          "data": {
            "text/plain": [
              "(8000, 2000)"
            ]
          },
          "metadata": {},
          "execution_count": 4
        }
      ]
    },
    {
      "cell_type": "code",
      "source": [
        "# Create sentiment labels\n",
        "#Y_train = np.append(np.ones((len(train_pos))), np.zeros((len(train_neg))))\n",
        "#Y_test = np.append(np.ones((len(test_pos))), np.zeros((len(test_neg))))\n",
        "#len(Y_train), len(Y_test)\n",
        "Y_train = np.append(np.ones((len(train_pos), 1)), np.zeros((len(train_neg), 1)), axis=0)\n",
        "Y_test = np.append(np.ones((len(test_pos), 1)), np.zeros((len(test_neg), 1)), axis=0)\n",
        "Y_train.shape, Y_test.shape"
      ],
      "metadata": {
        "colab": {
          "base_uri": "https://localhost:8080/"
        },
        "id": "fnKPgJK2eUzN",
        "outputId": "e07306be-d595-4060-b960-6786f836039d"
      },
      "execution_count": null,
      "outputs": [
        {
          "output_type": "execute_result",
          "data": {
            "text/plain": [
              "((8000, 1), (2000, 1))"
            ]
          },
          "metadata": {},
          "execution_count": 5
        }
      ]
    },
    {
      "cell_type": "code",
      "source": [
        "# Declare a figure with a custom size\n",
        "fig = plt.figure(figsize=(5, 5))\n",
        "\n",
        "# labels for the two classes\n",
        "labels = 'Positives', 'Negative'\n",
        "\n",
        "# Sizes for each slide\n",
        "sizes = [len(pos_tweets), len(neg_tweets)] \n",
        "\n",
        "# Declare pie chart, where the slices will be ordered and plotted counter-clockwise:\n",
        "plt.pie(sizes, labels=labels, autopct='%1.1f%%', shadow=True, startangle=90)\n",
        "\n",
        "# Equal aspect ratio ensures that pie is drawn as a circle.\n",
        "plt.axis('equal')  \n",
        "\n",
        "# Display the chart\n",
        "plt.show()"
      ],
      "metadata": {
        "colab": {
          "base_uri": "https://localhost:8080/",
          "height": 303
        },
        "id": "WD4uYb6cDvQE",
        "outputId": "0b5aef34-349e-470f-abf0-0544e60a9bc5"
      },
      "execution_count": null,
      "outputs": [
        {
          "output_type": "display_data",
          "data": {
            "text/plain": [
              "<Figure size 360x360 with 1 Axes>"
            ],
            "image/png": "[encoded data removed]"
          },
          "metadata": {}
        }
      ]
    },
    {
      "cell_type": "code",
      "source": [
        "# print positive in greeen\n",
        "print('\\033[92m' + pos_tweets[random.randint(0,5000)])\n",
        "\n",
        "# print negative in red\n",
        "print('\\033[91m' + neg_tweets[random.randint(0,5000)])"
      ],
      "metadata": {
        "colab": {
          "base_uri": "https://localhost:8080/"
        },
        "id": "0vt0fy2_D5bU",
        "outputId": "ac86930f-0888-4468-d4db-1780aef5dcc0"
      },
      "execution_count": null,
      "outputs": [
        {
          "output_type": "stream",
          "name": "stdout",
          "text": [
            "\u001b[92m@bunbun78 great shot - safe trip back to HK - love that place :-)\n",
            "\u001b[91mIve been trying to play the damn beta for like 12 hours now :(\n"
          ]
        }
      ]
    },
    {
      "cell_type": "markdown",
      "source": [
        "# Data preprocessing"
      ],
      "metadata": {
        "id": "f-Vo1kz_EVjb"
      }
    },
    {
      "cell_type": "code",
      "source": [
        "def process_tweet(tweet):\n",
        "    \"\"\"\n",
        "    Clean and tokenize a tweet\n",
        "\n",
        "    \"\"\"\n",
        "    # Regex cleaning  \n",
        "    tweet2 = re.sub(r\"https?:\\/\\/\\S*\", \"\", tweet)   # Remove hashtags and hyperlinks\n",
        "    tweet3 = re.sub(r\"#\", \"\", tweet2)               # Remove hash signs\n",
        "\n",
        "    # Tweets tokenization\n",
        "    tokenizer = TweetTokenizer(preserve_case=False, \n",
        "                            strip_handles=True,     # Remove username handles\n",
        "                            reduce_len=True)        # Replace repeated character sequences of length 3 or greater with sequences of length 3\n",
        "    tweet_tokens = tokenizer.tokenize(tweet3)\n",
        "\n",
        "    # Remove stop words and punctuation, and lemmatize\n",
        "    stopwords_eng = stopwords.words(\"english\")\n",
        "    lemmatizer = WordNetLemmatizer()\n",
        "    tweet_clean = [lemmatizer.lemmatize(token) for token in tweet_tokens if token not in stopwords_eng and token not in string.punctuation]\n",
        "\n",
        "    return tweet_clean"
      ],
      "metadata": {
        "id": "ihV_bgNBSJm9"
      },
      "execution_count": null,
      "outputs": []
    },
    {
      "cell_type": "code",
      "source": [
        "for tweet in train_tweets[:10]:\n",
        "    print(tweet)\n",
        "    print(process_tweet(tweet))\n",
        "    print()"
      ],
      "metadata": {
        "colab": {
          "base_uri": "https://localhost:8080/"
        },
        "id": "kU93b7Q4VUWK",
        "outputId": "81931946-b78e-4fd7-c7e4-f8da5af09107"
      },
      "execution_count": null,
      "outputs": [
        {
          "output_type": "stream",
          "name": "stdout",
          "text": [
            "#FollowFriday @France_Inte @PKuchly57 @Milipol_Paris for being top engaged members in my community this week :)\n",
            "['followfriday', 'top', 'engaged', 'member', 'community', 'week', ':)']\n",
            "\n",
            "@Lamb2ja Hey James! How odd :/ Please call our Contact Centre on 02392441234 and we will be able to assist you :) Many thanks!\n",
            "['hey', 'james', 'odd', ':/', 'please', 'call', 'contact', 'centre', '02392441234', 'able', 'assist', ':)', 'many', 'thanks']\n",
            "\n",
            "@DespiteOfficial we had a listen last night :) As You Bleed is an amazing track. When are you in Scotland?!\n",
            "['listen', 'last', 'night', ':)', 'bleed', 'amazing', 'track', 'scotland']\n",
            "\n",
            "@97sides CONGRATS :)\n",
            "['congrats', ':)']\n",
            "\n",
            "yeaaaah yippppy!!!  my accnt verified rqst has succeed got a blue tick mark on my fb profile :) in 15 days\n",
            "['yeaaah', 'yipppy', 'accnt', 'verified', 'rqst', 'succeed', 'got', 'blue', 'tick', 'mark', 'fb', 'profile', ':)', '15', 'day']\n",
            "\n",
            "@BhaktisBanter @PallaviRuhail This one is irresistible :)\n",
            "#FlipkartFashionFriday http://t.co/EbZ0L2VENM\n",
            "['one', 'irresistible', ':)', 'flipkartfashionfriday']\n",
            "\n",
            "We don't like to keep our lovely customers waiting for long! We hope you enjoy! Happy Friday! - LWWF :) https://t.co/smyYriipxI\n",
            "['like', 'keep', 'lovely', 'customer', 'waiting', 'long', 'hope', 'enjoy', 'happy', 'friday', 'lwwf', ':)']\n",
            "\n",
            "@Impatientraider On second thought, there’s just not enough time for a DD :) But new shorts entering system. Sheep must be buying.\n",
            "['second', 'thought', '’', 'enough', 'time', 'dd', ':)', 'new', 'short', 'entering', 'system', 'sheep', 'must', 'buying']\n",
            "\n",
            "Jgh , but we have to go to Bayan :D bye\n",
            "['jgh', 'go', 'bayan', ':D', 'bye']\n",
            "\n",
            "As an act of mischievousness, am calling the ETL layer of our in-house warehousing app Katamari.\n",
            "\n",
            "Well… as the name implies :p.\n",
            "['act', 'mischievousness', 'calling', 'etl', 'layer', 'in-house', 'warehousing', 'app', 'katamari', 'well', '…', 'name', 'implies', ':p']\n",
            "\n"
          ]
        }
      ]
    },
    {
      "cell_type": "markdown",
      "source": [
        "# Feature extraction"
      ],
      "metadata": {
        "id": "gbxQz-RqV2V8"
      }
    },
    {
      "cell_type": "code",
      "source": [
        "# Create frequencies dictionary\n",
        "def create_word_freqs_dict(tweets, labels):\n",
        "    tweets = [process_tweet(tweet) for tweet in tweets]\n",
        "    word_freqs = {}\n",
        "    for tweet, label in zip(tweets, labels):\n",
        "        for word in tweet:\n",
        "            if not (word, label[0]) in word_freqs:\n",
        "                word_freqs[(word, label[0])] = 0\n",
        "            word_freqs[(word, label[0])] += 1\n",
        "    # return dictionary sorted by values \n",
        "    return dict(sorted(word_freqs.items(), key=lambda x:x[1], reverse=True))"
      ],
      "metadata": {
        "id": "Mp2-Q3VOWrK7"
      },
      "execution_count": null,
      "outputs": []
    },
    {
      "cell_type": "code",
      "source": [
        "vocab_dict = create_word_freqs_dict(train_tweets, Y_train)\n",
        "vocab_dict"
      ],
      "metadata": {
        "colab": {
          "base_uri": "https://localhost:8080/"
        },
        "id": "EQoBUtqpYLrU",
        "outputId": "978a5c18-d58b-4649-89cb-37c0c93e147f"
      },
      "execution_count": null,
      "outputs": [
        {
          "output_type": "execute_result",
          "data": {
            "text/plain": [
              "{(':(', 0.0): 3675,\n",
              " (':)', 1.0): 2960,\n",
              " (':-)', 1.0): 552,\n",
              " (':D', 1.0): 523,\n",
              " (':-(', 0.0): 386,\n",
              " ('thanks', 1.0): 330,\n",
              " ('u', 1.0): 300,\n",
              " ('...', 0.0): 283,\n",
              " ('love', 1.0): 276,\n",
              " ('follow', 1.0): 274,\n",
              " (\"i'm\", 0.0): 266,\n",
              " ('please', 0.0): 242,\n",
              " ('...', 1.0): 228,\n",
              " ('♛', 0.0): 210,\n",
              " ('》', 0.0): 210,\n",
              " ('miss', 0.0): 198,\n",
              " ('thank', 1.0): 192,\n",
              " ('good', 1.0): 189,\n",
              " ('day', 1.0): 187,\n",
              " ('u', 0.0): 186,\n",
              " ('like', 1.0): 180,\n",
              " ('like', 0.0): 173,\n",
              " ('want', 0.0): 167,\n",
              " ('hi', 1.0): 154,\n",
              " ('happy', 1.0): 150,\n",
              " ('get', 0.0): 148,\n",
              " (\"can't\", 0.0): 148,\n",
              " ('see', 1.0): 143,\n",
              " ('get', 1.0): 142,\n",
              " (\"i'm\", 1.0): 140,\n",
              " ('back', 1.0): 138,\n",
              " ('great', 1.0): 135,\n",
              " ('follow', 0.0): 127,\n",
              " ('know', 1.0): 125,\n",
              " ('time', 0.0): 123,\n",
              " ('<3', 1.0): 119,\n",
              " ('sorry', 0.0): 118,\n",
              " ('love', 0.0): 118,\n",
              " ('one', 0.0): 118,\n",
              " ('much', 0.0): 116,\n",
              " ('day', 0.0): 115,\n",
              " ('new', 1.0): 114,\n",
              " ('go', 0.0): 114,\n",
              " ('know', 0.0): 110,\n",
              " ('followed', 0.0): 110,\n",
              " ('im', 0.0): 108,\n",
              " ('really', 0.0): 105,\n",
              " (':p', 1.0): 104,\n",
              " ('still', 0.0): 104,\n",
              " ('hope', 1.0): 100,\n",
              " ('..', 1.0): 100,\n",
              " ('sad', 0.0): 100,\n",
              " ('back', 0.0): 97,\n",
              " ('time', 1.0): 96,\n",
              " ('one', 1.0): 92,\n",
              " ('see', 0.0): 92,\n",
              " ('friday', 1.0): 91,\n",
              " ('today', 1.0): 91,\n",
              " ('got', 0.0): 90,\n",
              " ('..', 0.0): 89,\n",
              " ('today', 0.0): 88,\n",
              " ('feel', 0.0): 87,\n",
              " ('need', 0.0): 83,\n",
              " ('good', 0.0): 82,\n",
              " ('lot', 1.0): 80,\n",
              " ('please', 1.0): 78,\n",
              " ('oh', 0.0): 78,\n",
              " ('make', 0.0): 76,\n",
              " ('wanna', 0.0): 76,\n",
              " ('work', 0.0): 75,\n",
              " (\"i'll\", 1.0): 74,\n",
              " ('via', 1.0): 73,\n",
              " ('much', 1.0): 73,\n",
              " ('week', 1.0): 72,\n",
              " ('go', 1.0): 72,\n",
              " ('thanks', 0.0): 72,\n",
              " ('nice', 1.0): 71,\n",
              " ('going', 0.0): 71,\n",
              " ('would', 1.0): 70,\n",
              " ('let', 1.0): 69,\n",
              " ('morning', 1.0): 68,\n",
              " ('hope', 0.0): 68,\n",
              " ('well', 1.0): 66,\n",
              " ('follower', 1.0): 66,\n",
              " ('really', 1.0): 66,\n",
              " ('yes', 1.0): 64,\n",
              " (\"i've\", 0.0): 64,\n",
              " ('snapchat', 0.0): 64,\n",
              " ('sleep', 0.0): 64,\n",
              " ('1', 1.0): 63,\n",
              " ('look', 1.0): 63,\n",
              " ('wish', 0.0): 63,\n",
              " ('weekend', 1.0): 61,\n",
              " ('want', 1.0): 61,\n",
              " ('hey', 1.0): 60,\n",
              " ('work', 1.0): 59,\n",
              " ('make', 1.0): 58,\n",
              " ('got', 1.0): 57,\n",
              " ('people', 0.0): 57,\n",
              " ('night', 1.0): 55,\n",
              " ('going', 1.0): 55,\n",
              " ('arrived', 1.0): 55,\n",
              " ('think', 0.0): 55,\n",
              " ('kik', 0.0): 55,\n",
              " ('need', 1.0): 54,\n",
              " ('would', 0.0): 54,\n",
              " ('bad', 0.0): 54,\n",
              " ('birthday', 1.0): 53,\n",
              " ('come', 0.0): 52,\n",
              " ('welcome', 1.0): 51,\n",
              " ('stats', 1.0): 51,\n",
              " ('unfollowers', 1.0): 51,\n",
              " ('guy', 1.0): 51,\n",
              " ('could', 0.0): 51,\n",
              " ('keep', 1.0): 50,\n",
              " ('x', 1.0): 50,\n",
              " ('home', 0.0): 50,\n",
              " ('last', 0.0): 50,\n",
              " ('lovely', 1.0): 49,\n",
              " ('hello', 1.0): 49,\n",
              " ('bestfriend', 1.0): 49,\n",
              " ('best', 1.0): 49,\n",
              " (\"that's\", 1.0): 49,\n",
              " ('well', 0.0): 49,\n",
              " ('even', 0.0): 49,\n",
              " ('thing', 1.0): 48,\n",
              " ('always', 1.0): 48,\n",
              " ('always', 0.0): 48,\n",
              " ('omg', 0.0): 48,\n",
              " ('lol', 1.0): 47,\n",
              " ('come', 1.0): 47,\n",
              " ('week', 0.0): 47,\n",
              " ('enjoy', 1.0): 46,\n",
              " ('looking', 1.0): 46,\n",
              " ('start', 1.0): 46,\n",
              " ('think', 1.0): 46,\n",
              " ('tweet', 1.0): 46,\n",
              " (\"that's\", 0.0): 46,\n",
              " ('fun', 1.0): 45,\n",
              " ('everyone', 1.0): 45,\n",
              " ('guy', 0.0): 45,\n",
              " ('bam', 1.0): 44,\n",
              " ('warsaw', 1.0): 44,\n",
              " ('oh', 1.0): 44,\n",
              " ('haha', 1.0): 44,\n",
              " ('gonna', 0.0): 44,\n",
              " ('feeling', 0.0): 44,\n",
              " ('though', 0.0): 44,\n",
              " ('friend', 1.0): 43,\n",
              " ('people', 1.0): 43,\n",
              " ('hate', 0.0): 43,\n",
              " ('thing', 0.0): 43,\n",
              " ('look', 0.0): 43,\n",
              " ('new', 0.0): 43,\n",
              " ('>:(', 0.0): 43,\n",
              " ('never', 0.0): 42,\n",
              " ('im', 1.0): 41,\n",
              " ('2', 1.0): 41,\n",
              " ('glad', 1.0): 41,\n",
              " ('first', 1.0): 41,\n",
              " ('soon', 0.0): 41,\n",
              " ('cant', 0.0): 41,\n",
              " ('already', 0.0): 41,\n",
              " ('right', 0.0): 41,\n",
              " ('better', 1.0): 40,\n",
              " ('beautiful', 1.0): 40,\n",
              " ('done', 1.0): 40,\n",
              " ('say', 0.0): 40,\n",
              " ('amazing', 1.0): 39,\n",
              " ('ff', 1.0): 39,\n",
              " ('give', 1.0): 39,\n",
              " ('someone', 0.0): 39,\n",
              " ('find', 0.0): 39,\n",
              " ('mean', 0.0): 39,\n",
              " ('dont', 0.0): 39,\n",
              " ('last', 1.0): 38,\n",
              " ('right', 1.0): 38,\n",
              " ('soon', 1.0): 38,\n",
              " ('life', 1.0): 38,\n",
              " ('made', 1.0): 38,\n",
              " ('watch', 0.0): 38,\n",
              " ('yes', 0.0): 38,\n",
              " ('help', 0.0): 38,\n",
              " ('next', 1.0): 37,\n",
              " ('check', 1.0): 37,\n",
              " ('still', 1.0): 37,\n",
              " ('baby', 0.0): 37,\n",
              " ('bc', 0.0): 37,\n",
              " ('year', 0.0): 37,\n",
              " ('sure', 1.0): 36,\n",
              " ('cute', 0.0): 36,\n",
              " ('cry', 0.0): 36,\n",
              " (\"i'll\", 0.0): 36,\n",
              " ('awesome', 1.0): 35,\n",
              " ('tired', 0.0): 35,\n",
              " ('x', 0.0): 35,\n",
              " ('yeah', 0.0): 35,\n",
              " ('beli̇eve', 0.0): 35,\n",
              " ('wi̇ll', 0.0): 35,\n",
              " ('justi̇n', 0.0): 35,\n",
              " ('x15', 0.0): 35,\n",
              " ('ｓｅｅ', 0.0): 35,\n",
              " ('ｍｅ', 0.0): 35,\n",
              " ('job', 1.0): 34,\n",
              " ('dm', 1.0): 34,\n",
              " ('girl', 1.0): 34,\n",
              " ('smile', 1.0): 34,\n",
              " ('way', 1.0): 34,\n",
              " ('2', 0.0): 34,\n",
              " ('getting', 0.0): 34,\n",
              " ('help', 1.0): 33,\n",
              " ('year', 1.0): 33,\n",
              " ('xx', 1.0): 33,\n",
              " ('say', 1.0): 33,\n",
              " ('take', 0.0): 33,\n",
              " ('night', 0.0): 33,\n",
              " ('since', 0.0): 33,\n",
              " ('wait', 1.0): 32,\n",
              " ('sleep', 1.0): 32,\n",
              " ('free', 1.0): 32,\n",
              " ('following', 1.0): 32,\n",
              " ('life', 0.0): 32,\n",
              " ('sick', 0.0): 32,\n",
              " ('long', 0.0): 32,\n",
              " ('…', 1.0): 31,\n",
              " ('never', 1.0): 31,\n",
              " ('okay', 1.0): 31,\n",
              " (\"can't\", 1.0): 31,\n",
              " ('snapchat', 1.0): 31,\n",
              " ('tomorrow', 1.0): 31,\n",
              " ('next', 0.0): 31,\n",
              " ('talk', 0.0): 31,\n",
              " ('hurt', 0.0): 31,\n",
              " ('way', 0.0): 31,\n",
              " ('looking', 0.0): 31,\n",
              " ('lol', 0.0): 31,\n",
              " ('better', 0.0): 31,\n",
              " ('stop', 0.0): 31,\n",
              " ('top', 1.0): 30,\n",
              " ('yeah', 1.0): 30,\n",
              " ('video', 1.0): 30,\n",
              " ('ur', 1.0): 30,\n",
              " ('hard', 0.0): 30,\n",
              " ('friend', 0.0): 30,\n",
              " ('yet', 0.0): 30,\n",
              " ('someone', 1.0): 29,\n",
              " ('cool', 1.0): 29,\n",
              " ('little', 1.0): 29,\n",
              " ('also', 1.0): 29,\n",
              " ('ok', 1.0): 29,\n",
              " ('said', 0.0): 29,\n",
              " ('keep', 0.0): 29,\n",
              " ('okay', 0.0): 29,\n",
              " ('let', 0.0): 29,\n",
              " ('ice', 0.0): 29,\n",
              " ('many', 1.0): 28,\n",
              " ('big', 1.0): 28,\n",
              " ('working', 1.0): 28,\n",
              " ('take', 1.0): 28,\n",
              " ('retweet', 1.0): 28,\n",
              " ('hi', 0.0): 28,\n",
              " ('end', 0.0): 28,\n",
              " ('thought', 0.0): 28,\n",
              " ('long', 1.0): 27,\n",
              " ('3', 1.0): 27,\n",
              " ('went', 0.0): 27,\n",
              " ('wrong', 0.0): 27,\n",
              " ('cream', 0.0): 27,\n",
              " ('community', 1.0): 26,\n",
              " ('luck', 1.0): 26,\n",
              " ('city', 1.0): 26,\n",
              " ('blog', 1.0): 26,\n",
              " (\"we're\", 1.0): 26,\n",
              " ('fback', 1.0): 26,\n",
              " ('shit', 0.0): 26,\n",
              " ('phone', 0.0): 26,\n",
              " ('pls', 0.0): 26,\n",
              " ('tomorrow', 0.0): 26,\n",
              " ('working', 0.0): 26,\n",
              " ('hour', 0.0): 26,\n",
              " ('3', 0.0): 26,\n",
              " ('something', 1.0): 25,\n",
              " ('twitter', 1.0): 25,\n",
              " (\"i've\", 1.0): 25,\n",
              " ('could', 1.0): 25,\n",
              " ('sure', 0.0): 25,\n",
              " ('game', 0.0): 25,\n",
              " ('ever', 0.0): 25,\n",
              " ('ok', 0.0): 25,\n",
              " ('song', 0.0): 25,\n",
              " ('weather', 0.0): 25,\n",
              " ('rain', 0.0): 25,\n",
              " ('even', 1.0): 24,\n",
              " ('team', 1.0): 24,\n",
              " ('hour', 1.0): 24,\n",
              " ('idea', 1.0): 24,\n",
              " ('getting', 1.0): 24,\n",
              " ('tho', 0.0): 24,\n",
              " ('start', 0.0): 24,\n",
              " ('give', 0.0): 24,\n",
              " ('haha', 0.0): 24,\n",
              " ('poor', 0.0): 24,\n",
              " ('many', 0.0): 24,\n",
              " ('hear', 0.0): 24,\n",
              " ('man', 0.0): 24,\n",
              " ('live', 0.0): 24,\n",
              " ('trying', 0.0): 24,\n",
              " ('fuck', 0.0): 24,\n",
              " ('followfriday', 1.0): 23,\n",
              " ('waiting', 1.0): 23,\n",
              " ('support', 1.0): 23,\n",
              " ('feel', 1.0): 23,\n",
              " ('4', 1.0): 23,\n",
              " ('world', 1.0): 23,\n",
              " ('concert', 1.0): 23,\n",
              " ('wanna', 1.0): 23,\n",
              " ('hear', 1.0): 23,\n",
              " ('every', 1.0): 23,\n",
              " ('😭', 0.0): 23,\n",
              " ('happened', 0.0): 23,\n",
              " ('ugh', 0.0): 23,\n",
              " ('morning', 0.0): 23,\n",
              " ('—', 1.0): 22,\n",
              " ('email', 1.0): 22,\n",
              " (';)', 1.0): 22,\n",
              " ('talk', 1.0): 22,\n",
              " ('visit', 1.0): 22,\n",
              " ('cute', 1.0): 22,\n",
              " ('country', 1.0): 22,\n",
              " ('game', 1.0): 22,\n",
              " ('kind', 1.0): 22,\n",
              " ('ready', 1.0): 22,\n",
              " ('heart', 0.0): 22,\n",
              " ('play', 0.0): 22,\n",
              " ('away', 0.0): 22,\n",
              " ('first', 0.0): 22,\n",
              " ('school', 0.0): 22,\n",
              " ('left', 0.0): 22,\n",
              " ('win', 0.0): 22,\n",
              " ('missed', 0.0): 22,\n",
              " ('damn', 0.0): 22,\n",
              " ('thank', 0.0): 22,\n",
              " ('call', 1.0): 21,\n",
              " ('thought', 1.0): 21,\n",
              " ('might', 1.0): 21,\n",
              " ('pic', 1.0): 21,\n",
              " ('fan', 1.0): 21,\n",
              " ('place', 1.0): 21,\n",
              " ('❤', 1.0): 21,\n",
              " ('sharing', 1.0): 21,\n",
              " ('’', 0.0): 21,\n",
              " ('late', 0.0): 21,\n",
              " ('coming', 0.0): 21,\n",
              " ('something', 0.0): 21,\n",
              " ('weekend', 0.0): 21,\n",
              " ('tweet', 0.0): 21,\n",
              " ('missing', 0.0): 21,\n",
              " ('made', 0.0): 21,\n",
              " ('aw', 0.0): 21,\n",
              " ('�', 0.0): 21,\n",
              " (\"here's\", 1.0): 20,\n",
              " ('forward', 1.0): 20,\n",
              " ('stay', 1.0): 20,\n",
              " ('home', 1.0): 20,\n",
              " (\"let's\", 1.0): 20,\n",
              " ('hot', 1.0): 20,\n",
              " ('show', 1.0): 20,\n",
              " ('tell', 1.0): 20,\n",
              " ('video', 0.0): 20,\n",
              " (\"we're\", 0.0): 20,\n",
              " ('busy', 0.0): 20,\n",
              " ('26', 0.0): 20,\n",
              " ('hug', 0.0): 20,\n",
              " ('twitter', 0.0): 20,\n",
              " ('na', 0.0): 20,\n",
              " ('finally', 0.0): 20,\n",
              " ('fun', 0.0): 20,\n",
              " ('wait', 0.0): 20,\n",
              " ('tonight', 0.0): 20,\n",
              " ('dm', 0.0): 20,\n",
              " ('hey', 0.0): 20,\n",
              " ('add', 0.0): 20,\n",
              " ('without', 0.0): 20,\n",
              " ('♥', 0.0): 20,\n",
              " ('money', 0.0): 20,\n",
              " ('already', 1.0): 19,\n",
              " ('share', 1.0): 19,\n",
              " ('read', 1.0): 19,\n",
              " ('sound', 1.0): 19,\n",
              " ('definitely', 1.0): 19,\n",
              " ('try', 1.0): 19,\n",
              " ('ever', 1.0): 19,\n",
              " ('true', 1.0): 19,\n",
              " ('ya', 1.0): 19,\n",
              " ('play', 1.0): 19,\n",
              " ('add', 1.0): 19,\n",
              " ('mean', 1.0): 19,\n",
              " ('shame', 0.0): 19,\n",
              " ('nothing', 0.0): 19,\n",
              " ('suck', 0.0): 19,\n",
              " ('true', 0.0): 19,\n",
              " ('zayniscomingbackonjuly', 0.0): 19,\n",
              " ('stream', 0.0): 19,\n",
              " ('1', 0.0): 19,\n",
              " (\"he's\", 0.0): 19,\n",
              " ('lost', 0.0): 19,\n",
              " ('<3', 0.0): 19,\n",
              " ('leave', 0.0): 19,\n",
              " ('didnt', 0.0): 19,\n",
              " ('awww', 0.0): 19,\n",
              " ('try', 0.0): 19,\n",
              " ('maybe', 0.0): 19,\n",
              " ('ur', 0.0): 19,\n",
              " ('real', 1.0): 18,\n",
              " ('cheer', 1.0): 18,\n",
              " ('goodnight', 1.0): 18,\n",
              " ('find', 1.0): 18,\n",
              " ('ha', 1.0): 18,\n",
              " ('meet', 1.0): 18,\n",
              " ('bro', 1.0): 18,\n",
              " ('excited', 1.0): 18,\n",
              " ('anything', 1.0): 18,\n",
              " ('follback', 1.0): 18,\n",
              " ('month', 0.0): 18,\n",
              " ('meet', 0.0): 18,\n",
              " ('happy', 0.0): 18,\n",
              " ('n', 0.0): 18,\n",
              " ('—', 0.0): 18,\n",
              " ('change', 0.0): 18,\n",
              " ('actually', 0.0): 18,\n",
              " ('aww', 0.0): 18,\n",
              " ('enough', 0.0): 18,\n",
              " ('lot', 0.0): 18,\n",
              " ('another', 0.0): 18,\n",
              " ('news', 0.0): 18,\n",
              " ('done', 0.0): 18,\n",
              " ('ago', 0.0): 18,\n",
              " ('’', 1.0): 17,\n",
              " ('pretty', 1.0): 17,\n",
              " ('dream', 1.0): 17,\n",
              " ('wish', 1.0): 17,\n",
              " ('baby', 1.0): 17,\n",
              " ('maybe', 1.0): 17,\n",
              " ('appreciate', 1.0): 17,\n",
              " ('live', 1.0): 17,\n",
              " ('rain', 1.0): 17,\n",
              " ('account', 1.0): 17,\n",
              " ('playing', 1.0): 17,\n",
              " ('word', 1.0): 17,\n",
              " ('6', 1.0): 17,\n",
              " ('full', 1.0): 17,\n",
              " ('worry', 1.0): 17,\n",
              " ('problem', 1.0): 17,\n",
              " ('ask', 1.0): 17,\n",
              " ('movie', 1.0): 17,\n",
              " ('call', 0.0): 17,\n",
              " ('face', 0.0): 17,\n",
              " ('girl', 0.0): 17,\n",
              " ('movie', 0.0): 17,\n",
              " ('show', 0.0): 17,\n",
              " ('tell', 0.0): 17,\n",
              " ('stay', 0.0): 17,\n",
              " ('asleep', 0.0): 17,\n",
              " ('able', 0.0): 17,\n",
              " ('account', 0.0): 17,\n",
              " ('idk', 0.0): 17,\n",
              " ('anymore', 0.0): 17,\n",
              " ('rest', 0.0): 17,\n",
              " ('around', 0.0): 17,\n",
              " ('watching', 0.0): 17,\n",
              " ('big', 0.0): 17,\n",
              " ('anything', 0.0): 17,\n",
              " ('fan', 0.0): 17,\n",
              " ('little', 0.0): 17,\n",
              " ('wanted', 0.0): 17,\n",
              " ('dream', 0.0): 17,\n",
              " ('real', 0.0): 17,\n",
              " ('everyone', 0.0): 17,\n",
              " ('also', 0.0): 17,\n",
              " ('flipkartfashionfriday', 1.0): 16,\n",
              " ('enough', 1.0): 16,\n",
              " ('perfect', 1.0): 16,\n",
              " ('opportunity', 1.0): 16,\n",
              " ('bit', 1.0): 16,\n",
              " ('kik', 1.0): 16,\n",
              " ('watch', 1.0): 16,\n",
              " ('till', 1.0): 16,\n",
              " ('sweet', 1.0): 16,\n",
              " ('w', 1.0): 16,\n",
              " ('coming', 1.0): 16,\n",
              " ('song', 1.0): 16,\n",
              " ('may', 1.0): 16,\n",
              " ('wonderful', 1.0): 16,\n",
              " ('gonna', 1.0): 16,\n",
              " ('phone', 1.0): 16,\n",
              " ('man', 1.0): 16,\n",
              " ('though', 1.0): 16,\n",
              " ('funny', 1.0): 16,\n",
              " ('saw', 1.0): 16,\n",
              " ('photo', 1.0): 16,\n",
              " ('forget', 1.0): 16,\n",
              " ('news', 1.0): 16,\n",
              " ('another', 1.0): 16,\n",
              " ('…', 0.0): 16,\n",
              " ('far', 0.0): 16,\n",
              " ('birthday', 0.0): 16,\n",
              " ('came', 0.0): 16,\n",
              " ('head', 0.0): 16,\n",
              " ('sound', 0.0): 16,\n",
              " ('gone', 0.0): 16,\n",
              " ('4', 0.0): 16,\n",
              " ('nice', 0.0): 16,\n",
              " ('babe', 0.0): 16,\n",
              " ('w', 0.0): 16,\n",
              " ('eat', 0.0): 16,\n",
              " ('hair', 0.0): 16,\n",
              " ('best', 0.0): 16,\n",
              " ('congrats', 1.0): 15,\n",
              " ('music', 1.0): 15,\n",
              " ('dear', 1.0): 15,\n",
              " ('plan', 1.0): 15,\n",
              " ('tonight', 1.0): 15,\n",
              " ('5', 1.0): 15,\n",
              " ('question', 1.0): 15,\n",
              " ('two', 1.0): 15,\n",
              " ('mention', 1.0): 15,\n",
              " ('design', 1.0): 15,\n",
              " ('yay', 1.0): 15,\n",
              " ('10', 1.0): 15,\n",
              " ('said', 1.0): 15,\n",
              " ('xx', 0.0): 15,\n",
              " ('may', 0.0): 15,\n",
              " ('seen', 0.0): 15,\n",
              " ('tried', 0.0): 15,\n",
              " ('world', 0.0): 15,\n",
              " ('saw', 0.0): 15,\n",
              " ('holiday', 0.0): 15,\n",
              " ('❤', 0.0): 15,\n",
              " ('member', 1.0): 14,\n",
              " ('must', 1.0): 14,\n",
              " (\"what's\", 1.0): 14,\n",
              " ('youth', 1.0): 14,\n",
              " ('god', 1.0): 14,\n",
              " ('least', 1.0): 14,\n",
              " ('around', 1.0): 14,\n",
              " ('wow', 1.0): 14,\n",
              " ('invite', 1.0): 14,\n",
              " ('miss', 1.0): 14,\n",
              " ('wsalelove', 1.0): 14,\n",
              " ('anyway', 1.0): 14,\n",
              " ('seeing', 1.0): 14,\n",
              " ('family', 1.0): 14,\n",
              " ('talking', 1.0): 14,\n",
              " ('post', 1.0): 14,\n",
              " ('bad', 1.0): 14,\n",
              " ('use', 1.0): 14,\n",
              " ('book', 1.0): 14,\n",
              " ('–', 1.0): 14,\n",
              " ('far', 1.0): 14,\n",
              " ('everything', 0.0): 14,\n",
              " ('“', 0.0): 14,\n",
              " ('chance', 0.0): 14,\n",
              " ('pic', 0.0): 14,\n",
              " ('ah', 0.0): 14,\n",
              " ('😂', 0.0): 14,\n",
              " ('huhu', 0.0): 14,\n",
              " ('notice', 0.0): 14,\n",
              " (\"there's\", 0.0): 14,\n",
              " ('great', 0.0): 14,\n",
              " ('hornykik', 0.0): 14,\n",
              " ('unfortunately', 0.0): 14,\n",
              " ('making', 0.0): 14,\n",
              " ('free', 0.0): 14,\n",
              " ('picture', 0.0): 14,\n",
              " ('change', 1.0): 13,\n",
              " ('side', 1.0): 13,\n",
              " ('finally', 1.0): 13,\n",
              " ('actually', 1.0): 13,\n",
              " (\"i'd\", 1.0): 13,\n",
              " ('omg', 1.0): 13,\n",
              " ('boy', 1.0): 13,\n",
              " ('♥', 1.0): 13,\n",
              " ('cant', 1.0): 13,\n",
              " ('sorry', 1.0): 13,\n",
              " ('2015', 1.0): 13,\n",
              " ('xxx', 1.0): 13,\n",
              " ('r', 1.0): 13,\n",
              " ('n', 1.0): 13,\n",
              " ('nothing', 1.0): 13,\n",
              " ('super', 1.0): 13,\n",
              " ('part', 1.0): 13,\n",
              " ('kid', 0.0): 13,\n",
              " ('god', 0.0): 13,\n",
              " ('fucking', 0.0): 13,\n",
              " (\"what's\", 0.0): 13,\n",
              " ('hungry', 0.0): 13,\n",
              " ('literally', 0.0): 13,\n",
              " ('playing', 0.0): 13,\n",
              " ('online', 0.0): 13,\n",
              " ('sometimes', 0.0): 13,\n",
              " ('sigh', 0.0): 13,\n",
              " ('7', 0.0): 13,\n",
              " ('woke', 0.0): 13,\n",
              " (\"they're\", 0.0): 13,\n",
              " ('summer', 0.0): 13,\n",
              " ('least', 0.0): 13,\n",
              " ('anyone', 0.0): 13,\n",
              " ('waiting', 0.0): 13,\n",
              " ('moment', 0.0): 13,\n",
              " ('word', 0.0): 13,\n",
              " ('bored', 0.0): 13,\n",
              " ('two', 0.0): 13,\n",
              " ('team', 0.0): 13,\n",
              " ('support', 0.0): 13,\n",
              " ('rn', 0.0): 13,\n",
              " ('cold', 0.0): 13,\n",
              " ('ubericecream', 0.0): 13,\n",
              " ('name', 1.0): 12,\n",
              " (\"we'll\", 1.0): 12,\n",
              " ('link', 1.0): 12,\n",
              " ('yet', 1.0): 12,\n",
              " ('wishing', 1.0): 12,\n",
              " ('join', 1.0): 12,\n",
              " ('later', 1.0): 12,\n",
              " ('ah', 1.0): 12,\n",
              " ('kinda', 1.0): 12,\n",
              " ('♡', 1.0): 12,\n",
              " ('person', 1.0): 12,\n",
              " ('thankyou', 1.0): 12,\n",
              " ('awww', 1.0): 12,\n",
              " ('travel', 1.0): 12,\n",
              " ('happiness', 1.0): 12,\n",
              " ('eye', 1.0): 12,\n",
              " ('thx', 1.0): 12,\n",
              " ('mind', 1.0): 12,\n",
              " ('old', 1.0): 12,\n",
              " ('body', 1.0): 12,\n",
              " ('finished', 1.0): 12,\n",
              " ('win', 1.0): 12,\n",
              " ('summer', 1.0): 12,\n",
              " ('making', 1.0): 12,\n",
              " ('store', 1.0): 12,\n",
              " ('smiling', 1.0): 12,\n",
              " ('view', 1.0): 12,\n",
              " ('dog', 0.0): 12,\n",
              " ('old', 0.0): 12,\n",
              " ('goodbye', 0.0): 12,\n",
              " ('cut', 0.0): 12,\n",
              " ('music', 0.0): 12,\n",
              " ('order', 0.0): 12,\n",
              " ('mum', 0.0): 12,\n",
              " ('stage', 0.0): 12,\n",
              " ('must', 0.0): 12,\n",
              " ('scared', 0.0): 12,\n",
              " ('guess', 0.0): 12,\n",
              " ('pain', 0.0): 12,\n",
              " ('5', 0.0): 12,\n",
              " ('tbh', 0.0): 12,\n",
              " ('amazing', 0.0): 12,\n",
              " ('lucky', 0.0): 12,\n",
              " (\":'(\", 0.0): 12,\n",
              " ('house', 0.0): 12,\n",
              " ('paper', 0.0): 12,\n",
              " ('town', 0.0): 12,\n",
              " ('cat', 0.0): 12,\n",
              " ('forgot', 0.0): 12,\n",
              " ('seeing', 0.0): 12,\n",
              " ('sooo', 0.0): 12,\n",
              " ('used', 0.0): 12,\n",
              " ('place', 0.0): 12,\n",
              " ('pretty', 0.0): 12,\n",
              " ('bit', 0.0): 12,\n",
              " ('alone', 0.0): 12,\n",
              " ('hopefully', 0.0): 12,\n",
              " ('️', 0.0): 12,\n",
              " ('kikgirl', 0.0): 12,\n",
              " ('food', 0.0): 12,\n",
              " ('due', 0.0): 12,\n",
              " ('app', 1.0): 11,\n",
              " ('stuff', 1.0): 11,\n",
              " ('text', 1.0): 11,\n",
              " ('proud', 1.0): 11,\n",
              " ('agree', 1.0): 11,\n",
              " ('point', 1.0): 11,\n",
              " ('watching', 1.0): 11,\n",
              " ('number', 1.0): 11,\n",
              " ('trip', 1.0): 11,\n",
              " ('fav', 1.0): 11,\n",
              " ('course', 1.0): 11,\n",
              " ('info', 1.0): 11,\n",
              " ('since', 1.0): 11,\n",
              " ('mine', 1.0): 11,\n",
              " ('8', 1.0): 11,\n",
              " (\"he's\", 1.0): 11,\n",
              " ('cause', 1.0): 11,\n",
              " ('open', 1.0): 11,\n",
              " ('head', 1.0): 11,\n",
              " ('hahaha', 1.0): 11,\n",
              " ('month', 1.0): 11,\n",
              " ('found', 1.0): 11,\n",
              " ('end', 1.0): 11,\n",
              " ('dont', 1.0): 11,\n",
              " ('️', 1.0): 11,\n",
              " ('click', 1.0): 11,\n",
              " ('turn', 1.0): 11,\n",
              " ('😂', 1.0): 11,\n",
              " ('busy', 1.0): 11,\n",
              " ('favourite', 1.0): 11,\n",
              " ('shit', 1.0): 11,\n",
              " ('away', 1.0): 11,\n",
              " ('final', 1.0): 11,\n",
              " ('”', 0.0): 11,\n",
              " ('trip', 0.0): 11,\n",
              " ('full', 0.0): 11,\n",
              " ('😩', 0.0): 11,\n",
              " ('leaving', 0.0): 11,\n",
              " ('body', 0.0): 11,\n",
              " ('care', 0.0): 11,\n",
              " ('sexy', 0.0): 11,\n",
              " ('book', 0.0): 11,\n",
              " ('either', 0.0): 11,\n",
              " ('party', 0.0): 11,\n",
              " ('final', 0.0): 11,\n",
              " ('sadly', 0.0): 11,\n",
              " ('album', 0.0): 11,\n",
              " ('dying', 0.0): 11,\n",
              " ('wtf', 0.0): 11,\n",
              " ('raining', 0.0): 11,\n",
              " ('wake', 0.0): 11,\n",
              " ('terrible', 0.0): 11,\n",
              " ('car', 0.0): 11,\n",
              " ('photo', 0.0): 11,\n",
              " ('open', 0.0): 11,\n",
              " ('story', 0.0): 11,\n",
              " ('name', 0.0): 11,\n",
              " ('use', 0.0): 11,\n",
              " ('hahaha', 0.0): 11,\n",
              " ('app', 0.0): 11,\n",
              " ('20', 0.0): 11,\n",
              " ('ya', 0.0): 11,\n",
              " ('remember', 0.0): 11,\n",
              " ('city', 0.0): 11,\n",
              " ('july', 0.0): 11,\n",
              " ('2015', 0.0): 11,\n",
              " ('every', 0.0): 11,\n",
              " ('believe', 0.0): 11,\n",
              " ('dear', 0.0): 11,\n",
              " ('r', 0.0): 11,\n",
              " ('influencers', 1.0): 10,\n",
              " ('left', 1.0): 10,\n",
              " ('reason', 1.0): 10,\n",
              " ('care', 1.0): 10,\n",
              " ('thats', 1.0): 10,\n",
              " ('feeling', 1.0): 10,\n",
              " ('hug', 1.0): 10,\n",
              " ('went', 1.0): 10,\n",
              " ('food', 1.0): 10,\n",
              " ('everything', 1.0): 10,\n",
              " (\"they're\", 1.0): 10,\n",
              " ('bring', 1.0): 10,\n",
              " ('brain', 1.0): 10,\n",
              " ('either', 1.0): 10,\n",
              " ('fuck', 1.0): 10,\n",
              " ('enjoyed', 1.0): 10,\n",
              " ('plz', 1.0): 10,\n",
              " ('moment', 1.0): 10,\n",
              " ('hopefully', 1.0): 10,\n",
              " ('appreciated', 1.0): 10,\n",
              " ('order', 1.0): 10,\n",
              " ('story', 1.0): 10,\n",
              " ('feedback', 1.0): 10,\n",
              " ('close', 1.0): 10,\n",
              " ('tho', 1.0): 10,\n",
              " ('ticket', 1.0): 10,\n",
              " ('favorite', 1.0): 10,\n",
              " ('sir', 1.0): 10,\n",
              " ('late', 1.0): 10,\n",
              " ('coffee', 1.0): 10,\n",
              " ('brilliant', 1.0): 10,\n",
              " ('pleasure', 1.0): 10,\n",
              " ('pick', 1.0): 10,\n",
              " ('💕', 1.0): 10,\n",
              " ('asked', 0.0): 10,\n",
              " ('email', 0.0): 10,\n",
              " ('mom', 0.0): 10,\n",
              " ('might', 0.0): 10,\n",
              " ('sa', 0.0): 10,\n",
              " ('worst', 0.0): 10,\n",
              " ('uniteblue', 0.0): 10,\n",
              " ('mine', 0.0): 10,\n",
              " ('lmao', 0.0): 10,\n",
              " ('infinite', 0.0): 10,\n",
              " ('found', 0.0): 10,\n",
              " ('boy', 0.0): 10,\n",
              " ('fucked', 0.0): 10,\n",
              " ('kikhorny', 0.0): 10,\n",
              " ('v', 0.0): 10,\n",
              " ('dude', 0.0): 10,\n",
              " ('close', 0.0): 10,\n",
              " ('read', 0.0): 10,\n",
              " ('bed', 0.0): 10,\n",
              " ('ive', 0.0): 10,\n",
              " ('person', 0.0): 10,\n",
              " ('ill', 0.0): 10,\n",
              " ('saturday', 0.0): 10,\n",
              " ('nooo', 0.0): 10,\n",
              " (\"i'd\", 0.0): 10,\n",
              " ('cause', 0.0): 10,\n",
              " ('ate', 0.0): 10,\n",
              " ('london', 0.0): 10,\n",
              " ('later', 0.0): 10,\n",
              " ('hell', 0.0): 10,\n",
              " ('started', 0.0): 10,\n",
              " ('black', 0.0): 10,\n",
              " ('6', 0.0): 10,\n",
              " ('hoping', 0.0): 10,\n",
              " ('buy', 0.0): 10,\n",
              " ('put', 0.0): 10,\n",
              " ('af', 0.0): 10,\n",
              " ('hand', 0.0): 10,\n",
              " ('gutted', 0.0): 10,\n",
              " ('whole', 0.0): 10,\n",
              " ('pas', 0.0): 10,\n",
              " ('check', 0.0): 10,\n",
              " ('reply', 0.0): 10,\n",
              " ('wet', 0.0): 10,\n",
              " ('indiemusic', 0.0): 10,\n",
              " ('listen', 1.0): 9,\n",
              " ('heard', 1.0): 9,\n",
              " ('chat', 1.0): 9,\n",
              " ('rest', 1.0): 9,\n",
              " ('shout', 1.0): 9,\n",
              " ('product', 1.0): 9,\n",
              " ('buy', 1.0): 9,\n",
              " ('future', 1.0): 9,\n",
              " ('sometimes', 1.0): 9,\n",
              " ('fucking', 1.0): 9,\n",
              " ('gorgeous', 1.0): 9,\n",
              " ('congratulation', 1.0): 9,\n",
              " ('leave', 1.0): 9,\n",
              " ('without', 1.0): 9,\n",
              " ('huge', 1.0): 9,\n",
              " ('fantastic', 1.0): 9,\n",
              " ('hard', 1.0): 9,\n",
              " ('k', 1.0): 9,\n",
              " ('reading', 1.0): 9,\n",
              " ('used', 1.0): 9,\n",
              " ('put', 1.0): 9,\n",
              " ('loved', 1.0): 9,\n",
              " ('stream', 1.0): 9,\n",
              " ('school', 1.0): 9,\n",
              " ('wrong', 1.0): 9,\n",
              " ('set', 1.0): 9,\n",
              " ('followed', 1.0): 9,\n",
              " ('worth', 1.0): 9,\n",
              " ('holiday', 1.0): 9,\n",
              " ('😘', 1.0): 9,\n",
              " ('secret', 1.0): 9,\n",
              " ('hit', 1.0): 9,\n",
              " ('😊', 1.0): 9,\n",
              " ('kid', 1.0): 9,\n",
              " ('exciting', 1.0): 9,\n",
              " ('sending', 1.0): 9,\n",
              " ('btw', 1.0): 9,\n",
              " ('catch', 1.0): 9,\n",
              " ('stop', 1.0): 9,\n",
              " ('article', 1.0): 9,\n",
              " ('saying', 1.0): 9,\n",
              " ('ear', 1.0): 9,\n",
              " ('july', 1.0): 9,\n",
              " ('←', 1.0): 9,\n",
              " ('aqui', 1.0): 9,\n",
              " ('smile', 0.0): 9,\n",
              " ('kind', 0.0): 9,\n",
              " ('link', 0.0): 9,\n",
              " ('longer', 0.0): 9,\n",
              " ('weird', 0.0): 9,\n",
              " ('part', 0.0): 9,\n",
              " ('tcot', 0.0): 9,\n",
              " ('gift', 0.0): 9,\n",
              " ('happen', 0.0): 9,\n",
              " ('upset', 0.0): 9,\n",
              " ('room', 0.0): 9,\n",
              " ('hot', 0.0): 9,\n",
              " ('short', 0.0): 9,\n",
              " ('😊', 0.0): 9,\n",
              " ('beautiful', 0.0): 9,\n",
              " ('text', 0.0): 9,\n",
              " ('point', 0.0): 9,\n",
              " ('understand', 0.0): 9,\n",
              " ('badly', 0.0): 9,\n",
              " ('brother', 0.0): 9,\n",
              " ('awful', 0.0): 9,\n",
              " ('friday', 0.0): 9,\n",
              " ('family', 0.0): 9,\n",
              " ('thinking', 0.0): 9,\n",
              " ('yesterday', 0.0): 9,\n",
              " ('inside', 0.0): 9,\n",
              " ('ticket', 0.0): 9,\n",
              " ('concert', 0.0): 9,\n",
              " ('e', 0.0): 9,\n",
              " ('half', 0.0): 9,\n",
              " ('ready', 0.0): 9,\n",
              " ('kikchat', 0.0): 9,\n",
              " ('thats', 0.0): 9,\n",
              " ('eye', 0.0): 9,\n",
              " ('24', 0.0): 9,\n",
              " ('told', 0.0): 9,\n",
              " ('😘', 0.0): 9,\n",
              " ('nobody', 0.0): 9,\n",
              " ('kinda', 0.0): 9,\n",
              " ('fall', 0.0): 9,\n",
              " ('woman', 0.0): 9,\n",
              " ('supporting', 0.0): 9,\n",
              " ('ask', 0.0): 9,\n",
              " ('leeds', 0.0): 9,\n",
              " ('episode', 0.0): 9,\n",
              " ('blue', 1.0): 8,\n",
              " ('second', 1.0): 8,\n",
              " ('id', 1.0): 8,\n",
              " ('bed', 1.0): 8,\n",
              " ('send', 1.0): 8,\n",
              " ('release', 1.0): 8,\n",
              " ('added', 1.0): 8,\n",
              " ('shop', 1.0): 8,\n",
              " ('thinking', 1.0): 8,\n",
              " ('event', 1.0): 8,\n",
              " ('almost', 1.0): 8,\n",
              " ('message', 1.0): 8,\n",
              " ('address', 1.0): 8,\n",
              " ('guess', 1.0): 8,\n",
              " ('g', 1.0): 8,\n",
              " ('tgif', 1.0): 8,\n",
              " ('drop', 1.0): 8,\n",
              " ('probably', 1.0): 8,\n",
              " ('else', 1.0): 8,\n",
              " ('dot', 1.0): 8,\n",
              " ('braindots', 1.0): 8,\n",
              " ('men', 1.0): 8,\n",
              " ('three', 1.0): 8,\n",
              " ('comment', 1.0): 8,\n",
              " ('aww', 1.0): 8,\n",
              " ('meeting', 1.0): 8,\n",
              " ('list', 1.0): 8,\n",
              " ('quite', 1.0): 8,\n",
              " ('others', 1.0): 8,\n",
              " ('needed', 1.0): 8,\n",
              " ('le', 1.0): 8,\n",
              " ('fab', 1.0): 8,\n",
              " ('v', 1.0): 8,\n",
              " ('interesting', 1.0): 8,\n",
              " ('ceo', 1.0): 8,\n",
              " ('1month', 1.0): 8,\n",
              " ('bday', 1.0): 8,\n",
              " ('hehe', 1.0): 8,\n",
              " ('date', 1.0): 8,\n",
              " ('wicked', 1.0): 8,\n",
              " ('suck', 1.0): 8,\n",
              " ('pas', 1.0): 8,\n",
              " ('ago', 1.0): 8,\n",
              " ('trying', 1.0): 8,\n",
              " ('wanted', 1.0): 8,\n",
              " ('party', 1.0): 8,\n",
              " ('star', 1.0): 8,\n",
              " ('💙', 1.0): 8,\n",
              " ('💚', 1.0): 8,\n",
              " ('─', 1.0): 8,\n",
              " ('update', 0.0): 8,\n",
              " ('idea', 0.0): 8,\n",
              " ('available', 0.0): 8,\n",
              " ('15', 0.0): 8,\n",
              " ('plan', 0.0): 8,\n",
              " ('havent', 0.0): 8,\n",
              " ('bank', 0.0): 8,\n",
              " ('hello', 0.0): 8,\n",
              " ('ohh', 0.0): 8,\n",
              " ('wont', 0.0): 8,\n",
              " ('pa', 0.0): 8,\n",
              " ('dead', 0.0): 8,\n",
              " ('high', 0.0): 8,\n",
              " ('low', 0.0): 8,\n",
              " ('pray', 0.0): 8,\n",
              " ('awake', 0.0): 8,\n",
              " ('small', 0.0): 8,\n",
              " ('age', 0.0): 8,\n",
              " ('via', 0.0): 8,\n",
              " ('sun', 0.0): 8,\n",
              " ('voice', 0.0): 8,\n",
              " ('killing', 0.0): 8,\n",
              " ('broken', 0.0): 8,\n",
              " ('k', 0.0): 8,\n",
              " ('stuck', 0.0): 8,\n",
              " ('job', 0.0): 8,\n",
              " ('proud', 0.0): 8,\n",
              " ('pm', 0.0): 8,\n",
              " ('ko', 0.0): 8,\n",
              " ('xxx', 0.0): 8,\n",
              " ('rude', 0.0): 8,\n",
              " ('travel', 0.0): 8,\n",
              " ('fair', 0.0): 8,\n",
              " ...}"
            ]
          },
          "metadata": {},
          "execution_count": 11
        }
      ]
    },
    {
      "cell_type": "code",
      "source": [
        "fig, ax = plt.subplots(figsize = (30, 30))\n",
        "data = []\n",
        "for word, _ in list(vocab_dict)[:100]:\n",
        "    \n",
        "    # initialize positive and negative counts\n",
        "    pos = 0\n",
        "    neg = 0\n",
        "    \n",
        "    # retrieve number of positive counts\n",
        "    if (word, 1) in vocab_dict:\n",
        "        pos = vocab_dict[(word, 1)]\n",
        "        \n",
        "    # retrieve number of negative counts\n",
        "    if (word, 0) in vocab_dict:\n",
        "        neg = vocab_dict[(word, 0)]\n",
        "        \n",
        "    # append the word counts to the table\n",
        "    data.append([word, pos, neg])\n",
        "    \n",
        "\n",
        "# convert positive raw counts to logarithmic scale. we add 1 to avoid log(0)\n",
        "x = np.log([x[1] + 1 for x in data])  \n",
        "\n",
        "# do the same for the negative counts\n",
        "y = np.log([x[2] + 1 for x in data]) \n",
        "\n",
        "# Plot a dot for each pair of words\n",
        "ax.scatter(x, y)  \n",
        "\n",
        "# assign axis labels\n",
        "plt.xlabel(\"Log Positive count\")\n",
        "plt.ylabel(\"Log Negative count\")\n",
        "\n",
        "# Add the word as the label at the same position as you added the points just before\n",
        "for i in range(0, len(data)):\n",
        "    ax.annotate(data[i][0], (x[i], y[i]), fontsize=12)\n",
        "\n",
        "ax.plot([0, 9], [0, 9], color = 'red') # Plot the red line that divides the 2 areas.\n",
        "plt.show()"
      ],
      "metadata": {
        "colab": {
          "base_uri": "https://localhost:8080/",
          "height": 1000
        },
        "id": "gtwICRvmmwGP",
        "outputId": "fdd643e6-bea2-4873-e004-e1c0aae8a9d4"
      },
      "execution_count": null,
      "outputs": [
        {
          "output_type": "stream",
          "name": "stderr",
          "text": [
            "/usr/local/lib/python3.7/dist-packages/matplotlib/backends/backend_agg.py:214: RuntimeWarning: Glyph 12299 missing from current font.\n",
            "  font.set_text(s, 0.0, flags=flags)\n",
            "/usr/local/lib/python3.7/dist-packages/matplotlib/backends/backend_agg.py:183: RuntimeWarning: Glyph 12299 missing from current font.\n",
            "  font.set_text(s, 0, flags=flags)\n"
          ]
        },
        {
          "output_type": "display_data",
          "data": {
            "text/plain": [
              "<Figure size 2160x2160 with 1 Axes>"
            ],
            "image/png": "[encoded data removed]"
          },
          "metadata": {
            "needs_background": "light"
          }
        }
      ]
    },
    {
      "cell_type": "code",
      "source": [
        "def extract_freq_feature(tweets:list, vocab:dict):\n",
        "    \"\"\"\n",
        "    Convert tweets to frequency vectors\n",
        "\n",
        "    tweets: list of tweets (strings)\n",
        "    vocab: dictionary vocabulary. key: tuple of (token string, sentiment int). value: frequency (int) of the token in the training dats\n",
        "\n",
        "    returns: numpy array of frequency feature (shape: number of tweets x 3)\n",
        "    \"\"\"\n",
        "    freq_feature = []\n",
        "    for tweet in tweets:\n",
        "        tweet = process_tweet(tweet)\n",
        "        pos = 0\n",
        "        neg = 0\n",
        "        # Ignore repeated words\n",
        "        for word in list(set(tweet)):\n",
        "            pos += vocab.get((word, 1), 0)\n",
        "            neg += vocab.get((word, 0), 0)\n",
        "        # Add 1 for bias\n",
        "        freq_feature.append([1, pos, neg])\n",
        "    return np.array(freq_feature)"
      ],
      "metadata": {
        "id": "Eq1MFCkhcpLN"
      },
      "execution_count": null,
      "outputs": []
    },
    {
      "cell_type": "code",
      "source": [
        "X_train = extract_freq_feature(train_tweets, vocab_dict)\n",
        "X_test = extract_freq_feature(test_tweets, vocab_dict)\n",
        "X_train, X_train.shape"
      ],
      "metadata": {
        "colab": {
          "base_uri": "https://localhost:8080/"
        },
        "id": "YCq3aKSblqJd",
        "outputId": "efd0d22b-13e1-44f8-a570-9cfe91fcbc09"
      },
      "execution_count": null,
      "outputs": [
        {
          "output_type": "execute_result",
          "data": {
            "text/plain": [
              "(array([[   1, 3132,   61],\n",
              "        [   1, 3503,  414],\n",
              "        [   1, 3110,  106],\n",
              "        ...,\n",
              "        [   1,  131,  747],\n",
              "        [   1,  129, 3847],\n",
              "        [   1,  174, 3964]]), (8000, 3))"
            ]
          },
          "metadata": {},
          "execution_count": 14
        }
      ]
    },
    {
      "cell_type": "code",
      "source": [
        "# Plot the samples using columns 1 and 2 of the matrix\n",
        "fig, ax = plt.subplots(figsize = (8,8))\n",
        "plt.ylim(0, 2000)\n",
        "plt.xlim(0, 2000)\n",
        "\n",
        "colors = ['red', 'green']\n",
        "\n",
        "# Color based on the sentiment Y\n",
        "ax.scatter(X_train[:,1], X_train[:,2], c=[colors[int(k)] for k in Y_train], s = 0.1)  # Plot a dot for each pair of words\n",
        "plt.xlabel(\"Positive\")\n",
        "plt.ylabel(\"Negative\")"
      ],
      "metadata": {
        "colab": {
          "base_uri": "https://localhost:8080/",
          "height": 518
        },
        "id": "999zKj6Frcl1",
        "outputId": "06da67d3-2abe-4c7a-ffdf-4fe487e2e5ef"
      },
      "execution_count": null,
      "outputs": [
        {
          "output_type": "execute_result",
          "data": {
            "text/plain": [
              "Text(0, 0.5, 'Negative')"
            ]
          },
          "metadata": {},
          "execution_count": 15
        },
        {
          "output_type": "display_data",
          "data": {
            "text/plain": [
              "<Figure size 576x576 with 1 Axes>"
            ],
            "image/png": "[encoded data removed]"
          },
          "metadata": {
            "needs_background": "light"
          }
        }
      ]
    },
    {
      "cell_type": "markdown",
      "source": [
        "# Classification"
      ],
      "metadata": {
        "id": "zOHICoJ80hEe"
      }
    },
    {
      "cell_type": "markdown",
      "source": [
        "## Logistic regression"
      ],
      "metadata": {
        "id": "7GlX74HIyl2v"
      }
    },
    {
      "cell_type": "code",
      "source": [
        "lr_classifier = LogisticRegression(random_state=42).fit(X_train, Y_train)\n",
        "Y_pred_lr = lr_classifier.predict(X_test)\n",
        "Y_pred_lr"
      ],
      "metadata": {
        "colab": {
          "base_uri": "https://localhost:8080/"
        },
        "id": "KSYM-YGNypEt",
        "outputId": "89217f90-095b-4f02-f190-45d21b06ab20"
      },
      "execution_count": null,
      "outputs": [
        {
          "output_type": "execute_result",
          "data": {
            "text/plain": [
              "array([1., 1., 1., ..., 0., 0., 0.])"
            ]
          },
          "metadata": {},
          "execution_count": 16
        }
      ]
    },
    {
      "cell_type": "code",
      "source": [
        "lr_accuracy = lr_classifier.score(X_test, Y_test)\n",
        "lr_accuracy"
      ],
      "metadata": {
        "colab": {
          "base_uri": "https://localhost:8080/"
        },
        "id": "BMW835aOzhXW",
        "outputId": "80ba47ec-5456-459b-e142-186a8b3c8ced"
      },
      "execution_count": null,
      "outputs": [
        {
          "output_type": "execute_result",
          "data": {
            "text/plain": [
              "0.994"
            ]
          },
          "metadata": {},
          "execution_count": 17
        }
      ]
    },
    {
      "cell_type": "code",
      "source": [
        "lr_classifier.classes_"
      ],
      "metadata": {
        "colab": {
          "base_uri": "https://localhost:8080/"
        },
        "id": "VAEgaV8-58go",
        "outputId": "9e5477cd-ebd9-4b47-df27-e3ce3133199e"
      },
      "execution_count": null,
      "outputs": [
        {
          "output_type": "execute_result",
          "data": {
            "text/plain": [
              "array([0., 1.])"
            ]
          },
          "metadata": {},
          "execution_count": 18
        }
      ]
    },
    {
      "cell_type": "code",
      "source": [
        "lr_weights = lr_classifier.coef_\n",
        "lr_weights"
      ],
      "metadata": {
        "colab": {
          "base_uri": "https://localhost:8080/"
        },
        "id": "FIpIoY5ebhkf",
        "outputId": "ec764c51-69cf-4c5b-ce5e-2978cce1780a"
      },
      "execution_count": null,
      "outputs": [
        {
          "output_type": "execute_result",
          "data": {
            "text/plain": [
              "array([[ 0.24478961,  0.00846945, -0.00958943]])"
            ]
          },
          "metadata": {},
          "execution_count": 29
        }
      ]
    },
    {
      "cell_type": "code",
      "source": [
        "from sklearn.metrics import confusion_matrix, ConfusionMatrixDisplay\n",
        "\n",
        "fig, ax = plt.subplots(figsize=(10, 10))\n",
        "ConfusionMatrixDisplay.from_predictions(Y_test, Y_pred_lr, ax=ax)\n",
        "plt.show()"
      ],
      "metadata": {
        "colab": {
          "base_uri": "https://localhost:8080/",
          "height": 574
        },
        "id": "Vb5SNs623tbm",
        "outputId": "662a462d-2edd-44fd-9e65-d63597675843"
      },
      "execution_count": null,
      "outputs": [
        {
          "output_type": "display_data",
          "data": {
            "text/plain": [
              "<Figure size 720x720 with 2 Axes>"
            ],
            "image/png": "[encoded data removed]"
          },
          "metadata": {
            "needs_background": "light"
          }
        }
      ]
    },
    {
      "cell_type": "markdown",
      "source": [
        "## SVM"
      ],
      "metadata": {
        "id": "g3DPxUB_0rGl"
      }
    },
    {
      "cell_type": "code",
      "source": [
        "svm_classifier = SVC(random_state=42)\n",
        "svm_classifier.fit(X_train, Y_train)\n",
        "Y_pred_svm = svm_classifier.predict(X_test)\n",
        "Y_pred_svm"
      ],
      "metadata": {
        "colab": {
          "base_uri": "https://localhost:8080/"
        },
        "id": "XkrtDExe0qQu",
        "outputId": "80b72ebc-2291-49f5-8b02-6d74d37a74b4"
      },
      "execution_count": null,
      "outputs": [
        {
          "output_type": "execute_result",
          "data": {
            "text/plain": [
              "array([1., 1., 1., ..., 0., 0., 0.])"
            ]
          },
          "metadata": {},
          "execution_count": 20
        }
      ]
    },
    {
      "cell_type": "code",
      "source": [
        "svm_accuracy = svm_classifier.score(X_test, Y_test)\n",
        "svm_accuracy"
      ],
      "metadata": {
        "colab": {
          "base_uri": "https://localhost:8080/"
        },
        "id": "6mUhHDun18dQ",
        "outputId": "7854e6e0-70aa-4a70-f0fe-e62fb8ea9eba"
      },
      "execution_count": null,
      "outputs": [
        {
          "output_type": "execute_result",
          "data": {
            "text/plain": [
              "0.993"
            ]
          },
          "metadata": {},
          "execution_count": 21
        }
      ]
    },
    {
      "cell_type": "code",
      "source": [
        "fig, ax = plt.subplots(figsize=(10, 10))\n",
        "ConfusionMatrixDisplay.from_predictions(Y_test, Y_pred_svm, ax=ax)\n",
        "plt.show()"
      ],
      "metadata": {
        "colab": {
          "base_uri": "https://localhost:8080/",
          "height": 574
        },
        "id": "m7NO_85u7I8g",
        "outputId": "7d0e6e4e-1835-4b7a-dbe2-33b35b2e3b64"
      },
      "execution_count": null,
      "outputs": [
        {
          "output_type": "display_data",
          "data": {
            "text/plain": [
              "<Figure size 720x720 with 2 Axes>"
            ],
            "image/png": "[encoded data removed]"
          },
          "metadata": {
            "needs_background": "light"
          }
        }
      ]
    },
    {
      "cell_type": "markdown",
      "source": [
        "## Naïve Bayes"
      ],
      "metadata": {
        "id": "huQrDrMr71mH"
      }
    },
    {
      "cell_type": "code",
      "source": [
        "nb_classifier = GaussianNB()\n",
        "nb_classifier.fit(X_train, Y_train)\n",
        "Y_pred_nb = nb_classifier.predict(X_test)\n",
        "Y_pred_nb"
      ],
      "metadata": {
        "colab": {
          "base_uri": "https://localhost:8080/"
        },
        "id": "CyJBjplo73mi",
        "outputId": "f33d62b5-3a12-4b50-e861-487177a50ce5"
      },
      "execution_count": null,
      "outputs": [
        {
          "output_type": "execute_result",
          "data": {
            "text/plain": [
              "array([1., 1., 1., ..., 0., 0., 1.])"
            ]
          },
          "metadata": {},
          "execution_count": 23
        }
      ]
    },
    {
      "cell_type": "code",
      "source": [
        "nb_accuracy = nb_classifier.score(X_test, Y_test)\n",
        "nb_accuracy"
      ],
      "metadata": {
        "colab": {
          "base_uri": "https://localhost:8080/"
        },
        "id": "yqDTbr0I8HSu",
        "outputId": "6616c105-4452-45f1-b9f3-d3cdeddd785a"
      },
      "execution_count": null,
      "outputs": [
        {
          "output_type": "execute_result",
          "data": {
            "text/plain": [
              "0.9705"
            ]
          },
          "metadata": {},
          "execution_count": 24
        }
      ]
    },
    {
      "cell_type": "code",
      "source": [
        "fig, ax = plt.subplots(figsize=(10, 10))\n",
        "ConfusionMatrixDisplay.from_predictions(Y_test, Y_pred_nb, ax=ax)\n",
        "plt.show()"
      ],
      "metadata": {
        "colab": {
          "base_uri": "https://localhost:8080/",
          "height": 585
        },
        "id": "mNAbdQnT8PcG",
        "outputId": "0211915d-f3d0-43a7-85d3-73b1e168b7b4"
      },
      "execution_count": null,
      "outputs": [
        {
          "output_type": "display_data",
          "data": {
            "text/plain": [
              "<Figure size 720x720 with 2 Axes>"
            ],
            "image/png": "[encoded data removed]"
          },
          "metadata": {
            "needs_background": "light"
          }
        }
      ]
    }
  ]
}